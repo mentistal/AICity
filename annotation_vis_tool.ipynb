{
 "cells": [
  {
   "cell_type": "code",
   "execution_count": 1,
   "metadata": {},
   "outputs": [],
   "source": [
    "import os\n",
    "import cv2\n",
    "import numpy as np\n",
    "import json\n"
   ]
  },
  {
   "cell_type": "code",
   "execution_count": 2,
   "metadata": {},
   "outputs": [],
   "source": [
    "# Function to load annotations from a JSON file\n",
    "def load_annotations(annotation_file):\n",
    "    with open(annotation_file, 'r') as f:\n",
    "        return json.load(f)"
   ]
  },
  {
   "cell_type": "code",
   "execution_count": 3,
   "metadata": {},
   "outputs": [],
   "source": [
    "annotation_files = ['D:\\Projects\\AICity\\Tiles\\Tiles\\instances_1_2_3.json',\n",
    "                    'D:\\Projects\\AICity\\Tiles\\Tiles\\instances_4_5_6.json',\n",
    "                    'D:\\Projects\\AICity\\Tiles\\Tiles\\instances_7_8_9.json',\n",
    "                    'D:\\Projects\\AICity\\Tiles\\Tiles\\instances_10_11_12.json']\n",
    "\n",
    "image_dir = 'D:\\Projects\\AICity\\Tiles\\Tiles'\n",
    "output_dir = 'D:\\Projects\\AICity\\Patch'\n",
    "output_vis_dir = 'D:\\Projects\\AICity\\Vis_Binary'\n",
    "\n",
    "# Ensure the output directory exists\n",
    "os.makedirs(output_dir, exist_ok=True)\n",
    "os.makedirs(output_vis_dir, exist_ok=True)"
   ]
  },
  {
   "cell_type": "code",
   "execution_count": 4,
   "metadata": {},
   "outputs": [
    {
     "name": "stdout",
     "output_type": "stream",
     "text": [
      "Successfully load original image at D:\\Projects\\AICity\\Tiles\\Tiles\\1.jpg\n",
      "Successfully load original image at D:\\Projects\\AICity\\Tiles\\Tiles\\2.jpg\n",
      "Successfully load original image at D:\\Projects\\AICity\\Tiles\\Tiles\\3.jpg\n",
      "Successfully load original image at D:\\Projects\\AICity\\Tiles\\Tiles\\4.jpg\n",
      "Successfully load original image at D:\\Projects\\AICity\\Tiles\\Tiles\\5.jpg\n",
      "Successfully load original image at D:\\Projects\\AICity\\Tiles\\Tiles\\6.jpg\n",
      "Successfully load original image at D:\\Projects\\AICity\\Tiles\\Tiles\\7.jpg\n",
      "Successfully load original image at D:\\Projects\\AICity\\Tiles\\Tiles\\8.jpg\n",
      "Successfully load original image at D:\\Projects\\AICity\\Tiles\\Tiles\\9.jpg\n",
      "Successfully load original image at D:\\Projects\\AICity\\Tiles\\Tiles\\10.jpg\n",
      "Successfully load original image at D:\\Projects\\AICity\\Tiles\\Tiles\\11.jpg\n",
      "Successfully load original image at D:\\Projects\\AICity\\Tiles\\Tiles\\12.jpg\n"
     ]
    }
   ],
   "source": [
    "images = []\n",
    "building_masks =[]\n",
    "colour_masks=[]\n",
    "texture_masks=[]\n",
    "score_masks=[]\n",
    "materials_masks=[]\n",
    "for file in annotation_files:\n",
    "    annotation_data=load_annotations(file)\n",
    "    for image_info in annotation_data['images']:\n",
    "        image_path = os.path.join(image_dir, image_info['file_name'])\n",
    "        # Load the original image\n",
    "        image = cv2.imread(image_path)\n",
    "        image = cv2.cvtColor(image,cv2.COLOR_RGB2BGR)\n",
    "        if image is None:\n",
    "            print(f\"Failed to load original image at {image_path}\")\n",
    "        else:\n",
    "            print(f\"Successfully load original image at {image_path}\")\n",
    "            images.append(image)\n",
    "            building_masks.append(np.zeros(image.shape,int))\n",
    "            colour_masks.append(np.zeros(image.shape,int))\n",
    "            texture_masks.append(np.zeros(image.shape,int))\n",
    "            score_masks.append(np.zeros(image.shape,int))\n",
    "            materials_masks.append(np.zeros(image.shape,int))\n",
    "\n",
    "\n"
   ]
  },
  {
   "cell_type": "code",
   "execution_count": 5,
   "metadata": {},
   "outputs": [],
   "source": [
    "#colour map\n",
    "a_colour_map = {'White':[255,255,255],\n",
    "                'Red':[163, 3, 3],\n",
    "                'Black':[50, 50, 50],\n",
    "                'Green':[50, 148, 43],\n",
    "                'Blue':[53, 99, 184],\n",
    "                'Brown':[140, 114, 52],\n",
    "                'Grey':[126,126,126],\n",
    "                'Orange':[222,127,49],\n",
    "                'Yellow':[252, 240, 3]}\n",
    "\n",
    "a_texture_map = {'Rough':[255,0,0],\n",
    "                 'Average':[252, 240, 3],\n",
    "                 'Smooth':[83, 217, 56]}\n",
    "\n",
    "a_score_map = {'100':[76,175,80],\n",
    "               '90':[139,195,74],\n",
    "               '80':[205,220,57],\n",
    "               '70':[225,235,59],\n",
    "               '60':[255,152,0],\n",
    "               '50':[255,87,34]\n",
    "               }\n",
    "\n",
    "a_material_map = {'Concrete':[74,20,140],\n",
    "                  'Concrete Slate':[156,39,176],\n",
    "                  'Concrete Tiles':[206,147,216],\n",
    "                  'Concrete Ballast':[123,31,162],\n",
    "                  'Metal':[144,164,174],\n",
    "                  'Metal Tile':[207,216,220],\n",
    "                  'Steel':[255,249,196],\n",
    "                  'Green':[102,187,106],\n",
    "                  'Tiles':[144,202,249],\n",
    "                  'Glass':[0,188,212],\n",
    "                  'Asphalt Shingles':[140, 114, 52],\n",
    "                  'Bitumen':[159, 161, 74],\n",
    "                  'EPDM':[141,110,99],\n",
    "                  'Slate':[253,51,53],\n",
    "                  'Stone Tile':[239,154,154],\n",
    "                  'Complex':[205,220,57],\n",
    "                  'Solar':[1,87,155]\n",
    "               }\n",
    "               "
   ]
  },
  {
   "cell_type": "code",
   "execution_count": 6,
   "metadata": {},
   "outputs": [
    {
     "data": {
      "image/png": "[encoded data removed]",
      "text/plain": [
       "<Figure size 1000x4500 with 9 Axes>"
      ]
     },
     "metadata": {},
     "output_type": "display_data"
    }
   ],
   "source": [
    "#colourmap legend\n",
    "import matplotlib.pyplot as plt\n",
    "f,ax = plt.subplots(1,len(a_colour_map),figsize=(10,len(a_colour_map)*5))\n",
    "f.tight_layout()\n",
    "for idx,item in enumerate(a_colour_map):\n",
    "    block=np.zeros(shape=(100,100,3),dtype=int)\n",
    "    block[:,:,0]=a_colour_map[item][0]#R\n",
    "    block[:,:,1]=a_colour_map[item][1]#G\n",
    "    block[:,:,2]=a_colour_map[item][2]#B\n",
    "    ax[idx].imshow(block)\n",
    "    ax[idx].set_title(item,fontsize=8)\n",
    "    ax[idx].axis('off')"
   ]
  },
  {
   "cell_type": "code",
   "execution_count": 7,
   "metadata": {},
   "outputs": [
    {
     "data": {
      "image/png": "[encoded data removed]",
      "text/plain": [
       "<Figure size 400x400 with 3 Axes>"
      ]
     },
     "metadata": {},
     "output_type": "display_data"
    }
   ],
   "source": [
    "f,ax = plt.subplots(1,len(a_texture_map),figsize=(4,4))\n",
    "f.tight_layout()\n",
    "for idx,item in enumerate(a_texture_map):\n",
    "    block=np.zeros(shape=(100,100,3),dtype=int)\n",
    "    block[:,:,0]=a_texture_map[item][0]#R\n",
    "    block[:,:,1]=a_texture_map[item][1]#G\n",
    "    block[:,:,2]=a_texture_map[item][2]#B\n",
    "    ax[idx].imshow(block)\n",
    "    ax[idx].set_title(item,fontsize=8)\n",
    "    ax[idx].axis('off')"
   ]
  },
  {
   "cell_type": "code",
   "execution_count": 8,
   "metadata": {},
   "outputs": [
    {
     "data": {
      "image/png": "[encoded data removed]",
      "text/plain": [
       "<Figure size 640x480 with 6 Axes>"
      ]
     },
     "metadata": {},
     "output_type": "display_data"
    }
   ],
   "source": [
    "f,ax = plt.subplots(1,len(a_score_map))\n",
    "f.tight_layout()\n",
    "for idx,item in enumerate(a_score_map):\n",
    "    block=np.zeros(shape=(100,100,3),dtype=int)\n",
    "    block[:,:,0]=a_score_map[item][0]#R\n",
    "    block[:,:,1]=a_score_map[item][1]#G\n",
    "    block[:,:,2]=a_score_map[item][2]#B\n",
    "    ax[idx].imshow(block)\n",
    "    ax[idx].set_title(item,fontsize=8)\n",
    "    ax[idx].axis('off')"
   ]
  },
  {
   "cell_type": "code",
   "execution_count": 9,
   "metadata": {},
   "outputs": [
    {
     "data": {
      "image/png": "[encoded data removed]",
      "text/plain": [
       "<Figure size 1900x800 with 17 Axes>"
      ]
     },
     "metadata": {},
     "output_type": "display_data"
    }
   ],
   "source": [
    "f,ax = plt.subplots(1,len(a_material_map),figsize=(19,8))\n",
    "f.tight_layout()\n",
    "for idx,item in enumerate(a_material_map):\n",
    "    block=np.zeros(shape=(100,100,3),dtype=int)\n",
    "    block[:,:,0]=a_material_map[item][0]#R\n",
    "    block[:,:,1]=a_material_map[item][1]#G\n",
    "    block[:,:,2]=a_material_map[item][2]#B\n",
    "    ax[idx].imshow(block)\n",
    "    ax[idx].set_title(item,fontsize=8)\n",
    "    ax[idx].axis('off')"
   ]
  },
  {
   "cell_type": "code",
   "execution_count": 10,
   "metadata": {},
   "outputs": [],
   "source": [
    "for i,file in enumerate(annotation_files):\n",
    "    annotation_data=load_annotations(file)\n",
    "    for annotation in annotation_data['annotations']:\n",
    "        #get annotation values from the datafile\n",
    "        id = annotation['id']\n",
    "        image_idx = annotation['image_id']\n",
    "        region = annotation['segmentation']\n",
    "        area = annotation['area']\n",
    "        bbox = annotation['bbox']\n",
    "        a_colour = annotation['attributes']['Colours']\n",
    "        a_texture = annotation['attributes']['Textures']\n",
    "        a_score = annotation['attributes']['Score']\n",
    "        a_materials = annotation['attributes']['Materials']\n",
    "        a_occluded = annotation['attributes']['occluded']\n",
    "        \n",
    "        #Building Visualisation\n",
    "        polygon = np.reshape(region,(int(np.size(region)/2),2)).astype(np.int32).reshape((-1, 1, 2))#format change to opencv polygon x and y pairs\n",
    "        building_masks[i*3+image_idx-1]  = cv2.fillPoly(building_masks[i*3+image_idx-1] ,[polygon],color=(255,255,255))\n",
    "\n",
    "        #Colour Visualisation\n",
    "        polygon = np.reshape(region,(int(np.size(region)/2),2)).astype(np.int32).reshape((-1, 1, 2))\n",
    "        p_color = tuple(a_colour_map[a_colour])\n",
    "        colour_masks[i*3+image_idx-1] = cv2.fillPoly(colour_masks[i*3+image_idx-1],[polygon],color=p_color)\n",
    "        \n",
    "        #Texture Visualisation\n",
    "        polygon = np.reshape(region,(int(np.size(region)/2),2)).astype(np.int32).reshape((-1, 1, 2))\n",
    "        p_color = tuple(a_texture_map[a_texture])\n",
    "        texture_masks[i*3+image_idx-1] = cv2.fillPoly(texture_masks[i*3+image_idx-1],[polygon],color=p_color)\n",
    "\n",
    "        #Score Visualisation\n",
    "        polygon = np.reshape(region,(int(np.size(region)/2),2)).astype(np.int32).reshape((-1, 1, 2))\n",
    "        p_color = tuple(a_score_map[a_score])\n",
    "        score_masks[i*3+image_idx-1] = cv2.fillPoly(score_masks[i*3+image_idx-1],[polygon],color=p_color)\n",
    "\n",
    "        #Material Visualisation\n",
    "        polygon = np.reshape(region,(int(np.size(region)/2),2)).astype(np.int32).reshape((-1, 1, 2))\n",
    "        p_color = tuple(a_material_map[a_materials])\n",
    "        materials_masks[i*3+image_idx-1] = cv2.fillPoly(materials_masks[i*3+image_idx-1],[polygon],color=p_color)\n"
   ]
  },
  {
   "cell_type": "code",
   "execution_count": 11,
   "metadata": {},
   "outputs": [
    {
     "data": {
      "application/vnd.jupyter.widget-view+json": {
       "model_id": "3626555df65f450f8acdb7d9d3e15e04",
       "version_major": 2,
       "version_minor": 0
      },
      "text/plain": [
       "interactive(children=(Dropdown(description='display', options=('orignal', 'building', 'colour', 'texture', 'sc…"
      ]
     },
     "metadata": {},
     "output_type": "display_data"
    }
   ],
   "source": [
    "from ipywidgets import interact \n",
    "def vis_function(display): \n",
    "    \n",
    "    f,ax=plt.subplots(4,3,figsize=(15,15))\n",
    "    \n",
    "    if display=='orignal':\n",
    "        vis_set = images\n",
    "    if display=='building':\n",
    "        vis_set = building_masks\n",
    "    if display=='colour':\n",
    "        vis_set = colour_masks\n",
    "    if display=='texture':\n",
    "        vis_set = texture_masks\n",
    "    if display=='score':\n",
    "        vis_set = score_masks\n",
    "    if display=='material':\n",
    "        vis_set = materials_masks\n",
    "    ax[0][0].imshow(vis_set[11])\n",
    "    ax[0][1].imshow(vis_set[10])\n",
    "    ax[0][2].imshow(vis_set[9])\n",
    "    ax[1][0].imshow(vis_set[6])\n",
    "    ax[1][1].imshow(vis_set[7])\n",
    "    ax[1][2].imshow(vis_set[8])\n",
    "    ax[2][0].imshow(vis_set[5])\n",
    "    ax[2][1].imshow(vis_set[4])\n",
    "    ax[2][2].imshow(vis_set[3])\n",
    "    ax[3][0].imshow(vis_set[0])\n",
    "    ax[3][1].imshow(vis_set[1])\n",
    "    ax[3][2].imshow(vis_set[2])\n",
    "    ax_flatten = ax.flatten()\n",
    "    for each_ax in ax_flatten:\n",
    "        each_ax.axis('off')\n",
    "\n",
    "interact(vis_function, display=['orignal','building','colour','texture','score','material']); "
   ]
  },
  {
   "cell_type": "code",
   "execution_count": 12,
   "metadata": {},
   "outputs": [],
   "source": [
    "for i,image in enumerate(building_masks):\n",
    "    image = cv2.cvtColor(image.astype('uint8'),cv2.COLOR_RGB2BGR)\n",
    "    cv2.imwrite(f'Vis_Binary/building_mask{i}.png',image)"
   ]
  },
  {
   "cell_type": "code",
   "execution_count": 13,
   "metadata": {},
   "outputs": [],
   "source": [
    "for i,image in enumerate(colour_masks):\n",
    "    image = cv2.cvtColor(image.astype('uint8'),cv2.COLOR_RGB2BGR)\n",
    "    cv2.imwrite(f'Vis_Binary/colour_mask{i}.png',image)"
   ]
  },
  {
   "cell_type": "code",
   "execution_count": 14,
   "metadata": {},
   "outputs": [],
   "source": [
    "for i,image in enumerate(texture_masks):\n",
    "    image = cv2.cvtColor(image.astype('uint8'),cv2.COLOR_RGB2BGR)\n",
    "    cv2.imwrite(f'Vis_Binary/texture_mask{i}.png',image)"
   ]
  },
  {
   "cell_type": "code",
   "execution_count": 15,
   "metadata": {},
   "outputs": [],
   "source": [
    "for i,image in enumerate(score_masks):\n",
    "    image = cv2.cvtColor(image.astype('uint8'),cv2.COLOR_RGB2BGR)\n",
    "    cv2.imwrite(f'Vis_Binary/score_mask{i}.png',image)"
   ]
  },
  {
   "cell_type": "code",
   "execution_count": 16,
   "metadata": {},
   "outputs": [],
   "source": [
    "for i,image in enumerate(materials_masks):\n",
    "    image = cv2.cvtColor(image.astype('uint8'),cv2.COLOR_RGB2BGR)\n",
    "    cv2.imwrite(f'Vis_Binary/material_mask{i}.png',image)"
   ]
  }
 ],
 "metadata": {
  "kernelspec": {
   "display_name": "Python 3 (ipykernel)",
   "language": "python",
   "name": "python3"
  },
  "language_info": {
   "codemirror_mode": {
    "name": "ipython",
    "version": 3
   },
   "file_extension": ".py",
   "mimetype": "text/x-python",
   "name": "python",
   "nbconvert_exporter": "python",
   "pygments_lexer": "ipython3",
   "version": "3.8.19"
  }
 },
 "nbformat": 4,
 "nbformat_minor": 4
}
