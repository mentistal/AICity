{
 "cells": [
  {
   "cell_type": "markdown",
   "metadata": {},
   "source": [
    "## 1. Generate tiles image"
   ]
  },
  {
   "cell_type": "code",
   "execution_count": 3,
   "metadata": {},
   "outputs": [],
   "source": [
    "from PIL import Image\n",
    "import os\n",
    "\n",
    "def get_all_char_before_dot(s):\n",
    "    dot_index = s.find('.')\n",
    "    if dot_index > 0:\n",
    "        return s[:dot_index]\n",
    "    else:\n",
    "        return None  # Return None if there's no character before the dot\n",
    "\n",
    "def generate_tiles(image_path, tile_width, tile_height, step, output_folder):\n",
    "    # Open the image\n",
    "    image = Image.open(image_path)\n",
    "    image_width, image_height = image.size\n",
    "\n",
    "    # Generate tiles\n",
    "    for x in range(0, image_width - tile_width + 1, step):\n",
    "        for y in range(0, image_height - tile_height + 1, step):\n",
    "            # Define the bounding box for the current tile\n",
    "            left = x\n",
    "            upper = y\n",
    "            right = left + tile_width\n",
    "            lower = upper + tile_height\n",
    "            bbox = (left, upper, right, lower)\n",
    "\n",
    "            # Crop the image to the bounding box to create the tile\n",
    "            tile = image.crop(bbox)\n",
    "\n",
    "            # Save the tile to the output folder\n",
    "            image_file_name=os.path.basename(image_path)\n",
    "            image_idx = get_all_char_before_dot(image_file_name)\n",
    "            tile.save(f\"{output_folder}/{image_idx}_{x}_{y}.png\") #image_id_x_y.png\n",
    "\n",
    "    print(f\"Tiles from {image_file_name} are generated successfully.\")\n"
   ]
  },
  {
   "cell_type": "code",
   "execution_count": 4,
   "metadata": {},
   "outputs": [
    {
     "name": "stdout",
     "output_type": "stream",
     "text": [
      "Tiles from 1.jpg are generated successfully.\n",
      "Tiles from 2.jpg are generated successfully.\n",
      "Tiles from 3.jpg are generated successfully.\n",
      "Tiles from 4.jpg are generated successfully.\n",
      "Tiles from 5.jpg are generated successfully.\n",
      "Tiles from 6.jpg are generated successfully.\n",
      "Tiles from 7.jpg are generated successfully.\n",
      "Tiles from 8.jpg are generated successfully.\n",
      "Tiles from 9.jpg are generated successfully.\n",
      "Tiles from 10.jpg are generated successfully.\n",
      "Tiles from 11.jpg are generated successfully.\n",
      "Tiles from 12.jpg are generated successfully.\n"
     ]
    }
   ],
   "source": [
    "# Generate tiles for original images\n",
    "os.makedirs('Patch', exist_ok=True)\n",
    "\n",
    "for i in range(1,13): #12 images\n",
    "    generate_tiles(f\"D:\\Projects\\AICity\\Tiles\\Tiles\\\\{i}.jpg\", 100, 100, 50, \"Patch\")"
   ]
  },
  {
   "cell_type": "markdown",
   "metadata": {},
   "source": [
    "## 2. Create dataset using tiles\n",
    "\n",
    "Labels are in the folder names"
   ]
  },
  {
   "cell_type": "code",
   "execution_count": 49,
   "metadata": {},
   "outputs": [],
   "source": [
    "import os\n",
    "import cv2\n",
    "import numpy as np\n",
    "import json\n",
    "\n",
    "# Function to load annotations from a JSON file\n",
    "def load_annotations(annotation_file):\n",
    "    with open(annotation_file, 'r') as f:\n",
    "        return json.load(f)"
   ]
  },
  {
   "cell_type": "code",
   "execution_count": 50,
   "metadata": {},
   "outputs": [],
   "source": [
    "annotation_files = ['D:\\Projects\\AICity\\Tiles\\Tiles\\instances_1_2_3.json',\n",
    "                    'D:\\Projects\\AICity\\Tiles\\Tiles\\instances_4_5_6.json',\n",
    "                    'D:\\Projects\\AICity\\Tiles\\Tiles\\instances_7_8_9.json',\n",
    "                    'D:\\Projects\\AICity\\Tiles\\Tiles\\instances_10_11_12.json']\n",
    "# Ensure the output directory exists\n",
    "os.makedirs('Annotations', exist_ok=True)"
   ]
  },
  {
   "cell_type": "code",
   "execution_count": 51,
   "metadata": {},
   "outputs": [
    {
     "name": "stdout",
     "output_type": "stream",
     "text": [
      "Successfully load original image at Tiles\\Tiles\\1.jpg\n",
      "Successfully load original image at Tiles\\Tiles\\2.jpg\n",
      "Successfully load original image at Tiles\\Tiles\\3.jpg\n",
      "Successfully load original image at Tiles\\Tiles\\4.jpg\n",
      "Successfully load original image at Tiles\\Tiles\\5.jpg\n",
      "Successfully load original image at Tiles\\Tiles\\6.jpg\n",
      "Successfully load original image at Tiles\\Tiles\\7.jpg\n",
      "Successfully load original image at Tiles\\Tiles\\8.jpg\n",
      "Successfully load original image at Tiles\\Tiles\\9.jpg\n",
      "Successfully load original image at Tiles\\Tiles\\10.jpg\n",
      "Successfully load original image at Tiles\\Tiles\\11.jpg\n",
      "Successfully load original image at Tiles\\Tiles\\12.jpg\n"
     ]
    }
   ],
   "source": [
    "images = []\n",
    "building_masks =[]\n",
    "colour_masks=[]\n",
    "texture_masks=[]\n",
    "score_masks=[]\n",
    "materials_masks=[]\n",
    "image_dir = 'Tiles\\Tiles'\n",
    "\n",
    "for i,file in enumerate (annotation_files):\n",
    "    annotation_data=load_annotations(file)\n",
    "    for image_info in annotation_data['images']:\n",
    "        image_path = os.path.join(image_dir, image_info['file_name'])\n",
    "        # Load the original image\n",
    "        image = cv2.imread(image_path)\n",
    "        image = cv2.cvtColor(image,cv2.COLOR_RGB2BGR)\n",
    "        if image is None:\n",
    "            print(f\"Failed to load original image at {image_path}\")\n",
    "        else:\n",
    "            print(f\"Successfully load original image at {image_path}\")\n",
    "            images.append(image)\n",
    "            building_masks.append(np.zeros(image.shape,int))\n",
    "\n",
    "\n",
    "    for annotation in annotation_data['annotations']:\n",
    "        #get annotation values from the datafile\n",
    "        id = annotation['id']\n",
    "        image_idx = annotation['image_id']\n",
    "        region = annotation['segmentation']\n",
    "        area = annotation['area']\n",
    "        bbox = annotation['bbox']\n",
    "        a_colour = annotation['attributes']['Colours']\n",
    "        a_texture = annotation['attributes']['Textures']\n",
    "        a_score = annotation['attributes']['Score']\n",
    "        a_materials = annotation['attributes']['Materials']\n",
    "        a_occluded = annotation['attributes']['occluded']\n",
    "            \n",
    "        #Building masks\n",
    "        polygon = np.reshape(region,(int(np.size(region)/2),2)).astype(np.int32).reshape((-1, 1, 2))#format change to opencv polygon x and y pairs\n",
    "        building_masks[i*3+image_idx-1]  = cv2.fillPoly(building_masks[i*3+image_idx-1] ,[polygon],color=(255,255,255))\n",
    "\n",
    "            #colour_masks.append(np.zeros(image.shape,int))\n",
    "            #texture_masks.append(np.zeros(image.shape,int))\n",
    "            #score_masks.append(np.zeros(image.shape,int))\n",
    "            #materials_masks.append(np.zeros(image.shape,int))\n",
    "        \n",
    "        "
   ]
  },
  {
   "cell_type": "code",
   "execution_count": 70,
   "metadata": {},
   "outputs": [],
   "source": [
    "from PIL import Image\n",
    "im = Image.fromarray\n",
    "def generate_tiles_from_masks(image_idx, image_mask, tile_width, tile_height, step, output_folder):\n",
    "    # Open the image\n",
    "    image_mask = Image.fromarray(image_mask[:,:,0]*255)\n",
    "    image_width, image_height= image_mask.size\n",
    "\n",
    "    # Generate tiles\n",
    "    for x in range(0, image_width - tile_width + 1, step):\n",
    "        for y in range(0, image_height - tile_height + 1, step):\n",
    "            # Define the bounding box for the current tile\n",
    "            left = x\n",
    "            upper = y\n",
    "            right = left + tile_width\n",
    "            lower = upper + tile_height\n",
    "            bbox = (left, upper, right, lower)\n",
    "\n",
    "            # Crop the image to the bounding box to create the tile\n",
    "            tile = image_mask.crop(bbox)\n",
    "\n",
    "            # Save the tile to the output folder\n",
    "            tile.save(f\"{output_folder}/{image_idx}_{x}_{y}.png\") #image_id_x_y.png\n",
    "\n",
    "    print(f\"Tiles from image id {image_idx} are generated successfully.\")"
   ]
  },
  {
   "cell_type": "code",
   "execution_count": 71,
   "metadata": {},
   "outputs": [
    {
     "name": "stdout",
     "output_type": "stream",
     "text": [
      "Tiles from image id 1 are generated successfully.\n",
      "Tiles from image id 2 are generated successfully.\n",
      "Tiles from image id 3 are generated successfully.\n",
      "Tiles from image id 4 are generated successfully.\n",
      "Tiles from image id 5 are generated successfully.\n",
      "Tiles from image id 6 are generated successfully.\n",
      "Tiles from image id 7 are generated successfully.\n",
      "Tiles from image id 8 are generated successfully.\n",
      "Tiles from image id 9 are generated successfully.\n",
      "Tiles from image id 10 are generated successfully.\n",
      "Tiles from image id 11 are generated successfully.\n",
      "Tiles from image id 12 are generated successfully.\n"
     ]
    }
   ],
   "source": [
    "for idx, mask in enumerate(building_masks): #12 images\n",
    "    generate_tiles_from_masks(idx+1, mask, 100, 100, 50, \"Annotations\")\n"
   ]
  }
 ],
 "metadata": {
  "kernelspec": {
   "display_name": "GPU_base",
   "language": "python",
   "name": "python3"
  },
  "language_info": {
   "codemirror_mode": {
    "name": "ipython",
    "version": 3
   },
   "file_extension": ".py",
   "mimetype": "text/x-python",
   "name": "python",
   "nbconvert_exporter": "python",
   "pygments_lexer": "ipython3",
   "version": "3.8.19"
  }
 },
 "nbformat": 4,
 "nbformat_minor": 2
}
