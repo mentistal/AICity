{
 "cells": [
  {
   "cell_type": "code",
   "execution_count": 6,
   "metadata": {},
   "outputs": [],
   "source": [
    "from PIL import Image\n",
    "import os\n",
    "\n",
    "def get_all_char_before_dot(s):\n",
    "    dot_index = s.find('.')\n",
    "    if dot_index > 0:\n",
    "        return s[:dot_index]\n",
    "    else:\n",
    "        return None  # Return None if there's no character before the dot\n",
    "\n",
    "def generate_tiles(image_path, tile_width, tile_height, step, output_folder):\n",
    "    # Open the image\n",
    "    image = Image.open(image_path)\n",
    "    image_width, image_height = image.size\n",
    "\n",
    "    # Generate tiles\n",
    "    for x in range(0, image_width - tile_width + 1, step):\n",
    "        for y in range(0, image_height - tile_height + 1, step):\n",
    "            # Define the bounding box for the current tile\n",
    "            left = x\n",
    "            upper = y\n",
    "            right = left + tile_width\n",
    "            lower = upper + tile_height\n",
    "            bbox = (left, upper, right, lower)\n",
    "\n",
    "            # Crop the image to the bounding box to create the tile\n",
    "            tile = image.crop(bbox)\n",
    "\n",
    "            # Save the tile to the output folder\n",
    "            image_file_name=os.path.basename(image_path)\n",
    "            image_idx = get_all_char_before_dot(image_file_name)\n",
    "            tile.save(f\"{output_folder}/{image_idx}_{x}_{y}.png\") #image_id_x_y.png\n",
    "\n",
    "    print(f\"Tiles from {image_file_name} are generated successfully.\")\n"
   ]
  },
  {
   "cell_type": "code",
   "execution_count": 7,
   "metadata": {},
   "outputs": [
    {
     "name": "stdout",
     "output_type": "stream",
     "text": [
      "Tiles from 1.jpg are generated successfully.\n",
      "Tiles from 2.jpg are generated successfully.\n",
      "Tiles from 3.jpg are generated successfully.\n",
      "Tiles from 4.jpg are generated successfully.\n",
      "Tiles from 5.jpg are generated successfully.\n",
      "Tiles from 6.jpg are generated successfully.\n",
      "Tiles from 7.jpg are generated successfully.\n",
      "Tiles from 8.jpg are generated successfully.\n",
      "Tiles from 9.jpg are generated successfully.\n",
      "Tiles from 10.jpg are generated successfully.\n",
      "Tiles from 11.jpg are generated successfully.\n"
     ]
    }
   ],
   "source": [
    "# Generate tiles for original images\n",
    "for i in range(1,13): #12 images\n",
    "    generate_tiles(f\"D:\\Projects\\AICity\\Tiles\\Tiles\\\\{i}.jpg\", 100, 100, 50, \"Patch\")"
   ]
  }
 ],
 "metadata": {
  "kernelspec": {
   "display_name": "GPU_base",
   "language": "python",
   "name": "python3"
  },
  "language_info": {
   "codemirror_mode": {
    "name": "ipython",
    "version": 3
   },
   "file_extension": ".py",
   "mimetype": "text/x-python",
   "name": "python",
   "nbconvert_exporter": "python",
   "pygments_lexer": "ipython3",
   "version": "3.8.19"
  }
 },
 "nbformat": 4,
 "nbformat_minor": 2
}
